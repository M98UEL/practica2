{
 "cells": [
  {
   "cell_type": "code",
   "execution_count": 4,
   "metadata": {},
   "outputs": [
    {
     "name": "stdout",
     "output_type": "stream",
     "text": [
      "¡¡¡¡¡¡Los números RI han pasado la prueba de Chi-Cuadrada!!!!!\n"
     ]
    }
   ],
   "source": [
    "import math\n",
    "\n",
    "LimiteInf = [0.00000]\n",
    "LimiteSup = []\n",
    "NumRI = []\n",
    "frecObservada = []\n",
    "frecFinal = []\n",
    "var1 = 0\n",
    "Xi = 0\n",
    "Yi = 0\n",
    "alfa = 0.05\n",
    "\n",
    "\n",
    "with open(f'./files/DiezMil4.csv') as f:\n",
    "    for line in f:\n",
    "        temp = line.strip().split(',')  \n",
    "        for num in temp:\n",
    "            if num != '':\n",
    "                NumRI.append(float(num))\n",
    "\n",
    "m = round(math.sqrt(len(NumRI)))\n",
    "anchoSubintervalos = round(1/ m, 6)\n",
    "\n",
    "for i in range(m):\n",
    "    Suma = LimiteInf[var1] + anchoSubintervalos\n",
    "    LimiteSup.append(Suma)\n",
    "    LimiteInf.append(Suma)\n",
    "    var1 += 1\n",
    "\n",
    "LimiteInf = LimiteInf[0:m]\n",
    "frecEsperada = len(NumRI) / m\n",
    "\n",
    "\n",
    "for Xi in range(int(m)):\n",
    "        contador = 0\n",
    "        for Yi in range(len(NumRI)):\n",
    "            if NumRI[Yi] > LimiteInf[Xi] and NumRI[Yi] <= LimiteSup[Xi]:\n",
    "                contador += 1\n",
    "        frecObservada.append(contador)\n",
    "        frecFinal.append(((frecEsperada - frecObservada[Xi]) ** 2) / frecEsperada)\n",
    "        chiCuadrada = sum(frecFinal)\n",
    "\n",
    "''' VALOR DE TABLAS'''\n",
    "\n",
    "valorTablas = 0.5 * ((1.96 + math.sqrt((2 * ((len(NumRI) - 1) )))) ** 2)\n",
    "\n",
    "if (chiCuadrada < valorTablas):\n",
    "    print(\"¡¡¡¡¡¡Los números RI han pasado la prueba de Chi-Cuadrada!!!!!\")\n",
    "else:\n",
    "    print(\"Los números RI NO pasaron la prueba\")"
   ]
  }
 ],
 "metadata": {
  "interpreter": {
   "hash": "1e212ffcd112e493261f337d46451b6107e835a0407c60d01bfbe2f70492fb12"
  },
  "kernelspec": {
   "display_name": "Python 3.10.2 64-bit",
   "language": "python",
   "name": "python3"
  },
  "language_info": {
   "codemirror_mode": {
    "name": "ipython",
    "version": 3
   },
   "file_extension": ".py",
   "mimetype": "text/x-python",
   "name": "python",
   "nbconvert_exporter": "python",
   "pygments_lexer": "ipython3",
   "version": "3.10.2"
  },
  "orig_nbformat": 4
 },
 "nbformat": 4,
 "nbformat_minor": 2
}
