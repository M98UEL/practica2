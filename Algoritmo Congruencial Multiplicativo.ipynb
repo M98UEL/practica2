{
 "cells": [
  {
   "cell_type": "markdown",
   "metadata": {},
   "source": [
    "# Algoritmo Congruencial Multiplicativo"
   ]
  },
  {
   "cell_type": "code",
   "execution_count": 1,
   "metadata": {},
   "outputs": [
    {
     "name": "stdout",
     "output_type": "stream",
     "text": [
      "0.58064\n",
      "0.12903\n",
      "0.83870\n",
      "0.90322\n",
      "0.06451\n",
      "0.64516\n",
      "0.32258\n",
      "0.38709\n"
     ]
    }
   ],
   "source": [
    "arrayNumeros = []\n",
    "Xi = 17\n",
    "K = 2\n",
    "g = 5\n",
    "a = 3 + (8 * 2) \n",
    "ri = 0\n",
    "m = pow(2,g)\n",
    "numeroConstante = m - 1\n",
    "Ximas1 = 0\n",
    "\n",
    "periodoMaximo = pow(2,g-2)\n",
    "\n",
    "\n",
    "for i in range(periodoMaximo):\n",
    "    ri = (Xi + 1) / (numeroConstante)\n",
    "    cadenaRi = str(ri)\n",
    "    extracion = cadenaRi[0:7]\n",
    "    arrayNumeros.append(extracion)\n",
    "    Ximas1 = (a * Xi) % (32)\n",
    "    Xi = Ximas1\n",
    "\n",
    "print('\\n'.join(map(str, arrayNumeros)))"
   ]
  }
 ],
 "metadata": {
  "interpreter": {
   "hash": "50f2855ea9268f09f3bbc37fcb9d608efffc70f1e4a1ba46336c8ed334c44b9c"
  },
  "kernelspec": {
   "display_name": "Python 3.10.2 64-bit",
   "language": "python",
   "name": "python3"
  },
  "language_info": {
   "codemirror_mode": {
    "name": "ipython",
    "version": 3
   },
   "file_extension": ".py",
   "mimetype": "text/x-python",
   "name": "python",
   "nbconvert_exporter": "python",
   "pygments_lexer": "ipython3",
   "version": "3.10.2"
  },
  "orig_nbformat": 4
 },
 "nbformat": 4,
 "nbformat_minor": 2
}
