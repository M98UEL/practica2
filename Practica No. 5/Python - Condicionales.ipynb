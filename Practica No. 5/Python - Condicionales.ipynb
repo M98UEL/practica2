{
 "cells": [
  {
   "cell_type": "markdown",
   "metadata": {},
   "source": [
    "### Año bisiesto\n",
    "Dada una variable year con un valor entero, compruebe si dicho año es bisiesto o no lo es. Un año es bisiesto en el calendario Gregoriano, si es divisible entre 4 y no divisible entre 100, o bien si es divisible entre 400. Puedes hacer la comprobación en esta lista de años bisiestos."
   ]
  },
  {
   "cell_type": "code",
   "execution_count": 1,
   "metadata": {},
   "outputs": [
    {
     "name": "stdout",
     "output_type": "stream",
     "text": [
      "No es un año bisiesto\n"
     ]
    }
   ],
   "source": [
    "year = int (input('Escribe un año gregoriano: '))\n",
    "\n",
    "if (year % 4 == 0) & (year % 100 != 0):\n",
    "    print('Es un año bisiesto')\n",
    "else:\n",
    "    print('No es un año bisiesto')"
   ]
  },
  {
   "cell_type": "markdown",
   "metadata": {},
   "source": [
    "### Superheroes\n",
    "![imagen del ejercicio](super.jpg)"
   ]
  },
  {
   "cell_type": "code",
   "execution_count": 2,
   "metadata": {},
   "outputs": [
    {
     "name": "stdout",
     "output_type": "stream",
     "text": [
      "IronMan\n"
     ]
    }
   ],
   "source": [
    "Marvel = input('Can fly?  true / false')\n",
    "if Marvel == 'true':\n",
    "    Marvel = input('Is human? true / false')\n",
    "    if Marvel == 'true':\n",
    "        Marvel = input('Has mask? true / false')\n",
    "        if Marvel == 'true':\n",
    "            print('IronMan')\n",
    "        else:\n",
    "            print('Captain Marvel')\n",
    "    elif Marvel == 'false':\n",
    "        Marvel = input('Has mask? true / false')\n",
    "        if Marvel == 'true':\n",
    "            print('Ronan Accuser')\n",
    "        elif Marvel == 'false':\n",
    "            print('Vision')\n",
    "elif Marvel == 'false':\n",
    "    Marvel = input('Is human? true / false')\n",
    "    if Marvel == 'true':\n",
    "        Marvel = input('Has mask? true / false')\n",
    "        if Marvel == 'true':\n",
    "            print('Spiderman')\n",
    "        else:\n",
    "            print('Hulk')\n",
    "    elif Marvel == 'false':\n",
    "        Marvel = input('Has mask? true / false')\n",
    "        if Marvel == 'true':\n",
    "            print('Black Bolt')\n",
    "        elif Marvel == 'false':\n",
    "            print('Thanos')"
   ]
  },
  {
   "cell_type": "markdown",
   "metadata": {},
   "source": [
    "### Donar sangre\n",
    "Escriba un programa en Python que acepte edad, peso, pulso y plaquetas, y determine si una persona cumple con estos requisitos para donar sangre.\n",
    "Entrada: edad=34; peso=81; heartbeat=70; plaquetas=150000\n",
    "\n",
    "Salida: Apto para donar sangre"
   ]
  },
  {
   "cell_type": "code",
   "execution_count": 3,
   "metadata": {},
   "outputs": [
    {
     "name": "stdout",
     "output_type": "stream",
     "text": [
      "Apto para donar sangre\n"
     ]
    }
   ],
   "source": [
    "edad = int (input ('¿Cual es tu Edad?'))\n",
    "peso = int (input ('¿Cual es tu Peso?'))\n",
    "pulso = int (input ('¿Cual es tu Pulso?'))\n",
    "plaquetas = int (input ('¿Cuales son tus Plaquetas?'))\n",
    "\n",
    "if (edad == 34) and (peso == 81) and (pulso == 70) and (plaquetas == 150000):\n",
    "    print('Apto para donar sangre')\n",
    "else:\n",
    "    print('NO ES APTO')"
   ]
  }
 ],
 "metadata": {
  "interpreter": {
   "hash": "50f2855ea9268f09f3bbc37fcb9d608efffc70f1e4a1ba46336c8ed334c44b9c"
  },
  "kernelspec": {
   "display_name": "Python 3.10.2 64-bit",
   "language": "python",
   "name": "python3"
  },
  "language_info": {
   "codemirror_mode": {
    "name": "ipython",
    "version": 3
   },
   "file_extension": ".py",
   "mimetype": "text/x-python",
   "name": "python",
   "nbconvert_exporter": "python",
   "pygments_lexer": "ipython3",
   "version": "3.10.2"
  },
  "orig_nbformat": 4
 },
 "nbformat": 4,
 "nbformat_minor": 2
}
