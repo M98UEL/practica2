{
 "cells": [
  {
   "cell_type": "markdown",
   "metadata": {},
   "source": [
    "# Tarea 2"
   ]
  },
  {
   "cell_type": "markdown",
   "metadata": {},
   "source": [
    "#### Operaciones + - x /"
   ]
  },
  {
   "cell_type": "code",
   "execution_count": 3,
   "metadata": {},
   "outputs": [
    {
     "name": "stdout",
     "output_type": "stream",
     "text": [
      "La suma es: 20\n",
      "La resta es: 0\n",
      "La multiplicación es: 100\n",
      "La división es : 1.0\n"
     ]
    }
   ],
   "source": [
    "Resl = 0\n",
    "num1 = int (input('Escribe un numero: '))\n",
    "num2 = int (input('Escribe un segundo numero: '))\n",
    "Resl = num1 + num2\n",
    "print ('La suma es: ' + str(Resl))\n",
    "Resl = num1 - num2\n",
    "print ('La resta es: ' + str(Resl))\n",
    "Resl = num1 * num2\n",
    "print ('La multiplicación es: ' + str(Resl))\n",
    "Resl = num1 / num2\n",
    "print ('La división es : ' + str(Resl))"
   ]
  },
  {
   "cell_type": "markdown",
   "metadata": {},
   "source": [
    "### f-strings"
   ]
  },
  {
   "cell_type": "code",
   "execution_count": 4,
   "metadata": {},
   "outputs": [
    {
     "data": {
      "text/plain": [
       "\"('2.718', '2.718280', '    2.72', '2.718280e+00', '00002.7183', '            2.71828')\""
      ]
     },
     "execution_count": 4,
     "metadata": {},
     "output_type": "execute_result"
    }
   ],
   "source": [
    "Var1 = '2.718'\n",
    "Var2 = '2.718280'\n",
    "Var3 = '    2.72'\n",
    "Var4 = '2.718280e+00'\n",
    "Var5 = '00002.7183'\n",
    "Var6 = '            2.71828'\n",
    "\n",
    "f'{Var1, Var2, Var3, Var4, Var5, Var6}'"
   ]
  },
  {
   "cell_type": "markdown",
   "metadata": {},
   "source": [
    "### Hamming "
   ]
  },
  {
   "cell_type": "code",
   "execution_count": 5,
   "metadata": {},
   "outputs": [
    {
     "name": "stdout",
     "output_type": "stream",
     "text": [
      "0\n"
     ]
    }
   ],
   "source": [
    "palabra1 = input ('Escibre una cadena de bits: ')\n",
    "palabra2 = input ('Escribe una segunda cadena de bits: ')\n",
    "contador = 0\n",
    "cicloPalabra2 = 0\n",
    "\n",
    "for letra in palabra1:\n",
    "    if letra != palabra2[cicloPalabra2]:\n",
    "        contador = contador + 1 \n",
    "    cicloPalabra2 = cicloPalabra2 + 1\n",
    "\n",
    "print(contador)"
   ]
  },
  {
   "cell_type": "markdown",
   "metadata": {},
   "source": [
    "### Año bisiesto"
   ]
  },
  {
   "cell_type": "code",
   "execution_count": 6,
   "metadata": {},
   "outputs": [
    {
     "name": "stdout",
     "output_type": "stream",
     "text": [
      "No es un año bisiesto\n"
     ]
    }
   ],
   "source": [
    "year = int (input('Escribe un año gregoriano: '))\n",
    "\n",
    "if (year % 4 == 0) & (year % 100 != 0):\n",
    "    print('Es un año bisiesto')\n",
    "else:\n",
    "    print('No es un año bisiesto')"
   ]
  },
  {
   "cell_type": "markdown",
   "metadata": {},
   "source": [
    "### Superheroes"
   ]
  },
  {
   "cell_type": "code",
   "execution_count": 6,
   "metadata": {},
   "outputs": [
    {
     "name": "stdout",
     "output_type": "stream",
     "text": [
      "IronMan\n"
     ]
    }
   ],
   "source": [
    "Marvel = input('Can fly?  true / false')\n",
    "if Marvel == 'true':\n",
    "    Marvel = input('Is human? true / false')\n",
    "    if Marvel == 'true':\n",
    "        Marvel = input('Has mask? true / false')\n",
    "        if Marvel == 'true':\n",
    "            print('IronMan')\n",
    "        else:\n",
    "            print('Captain Marvel')\n",
    "    elif Marvel == 'false':\n",
    "        Marvel = input('Has mask? true / false')\n",
    "        if Marvel == 'true':\n",
    "            print('Ronan Accuser')\n",
    "        elif Marvel == 'false':\n",
    "            print('Vision')\n",
    "elif Marvel == 'false':\n",
    "    Marvel = input('Is human? true / false')\n",
    "    if Marvel == 'true':\n",
    "        Marvel = input('Has mask? true / false')\n",
    "        if Marvel == 'true':\n",
    "            print('Spiderman')\n",
    "        else:\n",
    "            print('Hulk')\n",
    "    elif Marvel == 'false':\n",
    "        Marvel = input('Has mask? true / false')\n",
    "        if Marvel == 'true':\n",
    "            print('Black Bolt')\n",
    "        elif Marvel == 'false':\n",
    "            print('Thanos')"
   ]
  },
  {
   "cell_type": "markdown",
   "metadata": {},
   "source": [
    "### Donar sangre"
   ]
  },
  {
   "cell_type": "code",
   "execution_count": 2,
   "metadata": {},
   "outputs": [
    {
     "name": "stdout",
     "output_type": "stream",
     "text": [
      "Apto para donar sangre\n"
     ]
    }
   ],
   "source": [
    "edad = int (input ('¿Cual es tu Edad?'))\n",
    "peso = int (input ('¿Cual es tu Peso?'))\n",
    "pulso = int (input ('¿Cual es tu Pulso?'))\n",
    "plaquetas = int (input ('¿Cuales son tus Plaquetas?'))\n",
    "\n",
    "if (edad == 34) and (peso == 81) and (pulso == 70) and (plaquetas == 150000):\n",
    "    print('Apto para donar sangre')\n",
    "else:\n",
    "    print('NO ES APTO')"
   ]
  }
 ],
 "metadata": {
  "interpreter": {
   "hash": "aa05db0fcaf3703c246d5bcdac9af29cc6ee93de784b693bbd3d643749e35378"
  },
  "kernelspec": {
   "display_name": "Python 3.10.2 64-bit",
   "language": "python",
   "name": "python3"
  },
  "language_info": {
   "codemirror_mode": {
    "name": "ipython",
    "version": 3
   },
   "file_extension": ".py",
   "mimetype": "text/x-python",
   "name": "python",
   "nbconvert_exporter": "python",
   "pygments_lexer": "ipython3",
   "version": "3.10.2"
  },
  "orig_nbformat": 4
 },
 "nbformat": 4,
 "nbformat_minor": 2
}
