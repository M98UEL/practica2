{
 "cells": [
  {
   "cell_type": "markdown",
   "metadata": {},
   "source": [
    "# Hercicios 2"
   ]
  }
 ],
 "metadata": {
  "interpreter": {
   "hash": "50f2855ea9268f09f3bbc37fcb9d608efffc70f1e4a1ba46336c8ed334c44b9c"
  },
  "kernelspec": {
   "display_name": "Python 3.10.2 64-bit",
   "language": "python",
   "name": "python3"
  },
  "language_info": {
   "name": "python",
   "version": "3.10.2"
  },
  "orig_nbformat": 4
 },
 "nbformat": 4,
 "nbformat_minor": 2
}
