{
 "cells": [
  {
   "cell_type": "markdown",
   "metadata": {},
   "source": [
    "# Algoritmo congruencial aditivo"
   ]
  },
  {
   "cell_type": "code",
   "execution_count": 1,
   "metadata": {},
   "outputs": [
    {
     "name": "stdout",
     "output_type": "stream",
     "text": [
      "65\n",
      "89\n",
      "98\n",
      "3\n",
      "69\n",
      "34\n",
      "23\n",
      "21\n",
      "24\n",
      "93\n",
      "27\n",
      "50\n",
      "71\n",
      "95\n",
      "88\n",
      "15\n",
      "65\n",
      "36\n",
      "31\n",
      "19\n",
      "---------\n",
      "0.34343\n",
      "0.23232\n",
      "0.21212\n",
      "0.24242\n",
      "0.93939\n",
      "0.27272\n",
      "0.50505\n",
      "0.71717\n",
      "0.95959\n",
      "0.88888\n",
      "0.15151\n",
      "0.65656\n",
      "0.36363\n",
      "0.31313\n",
      "0.19191\n"
     ]
    }
   ],
   "source": [
    "listaNumeros = [65, 89, 98, 3, 69]\n",
    "numPseudoaletorios = []\n",
    "m = 100\n",
    "var1 = 4\n",
    "var2 = 0\n",
    "var3 = 1\n",
    "\n",
    "for i in range(15):\n",
    "\n",
    "    Xi = (listaNumeros[var1] + listaNumeros[var2]) % (100)\n",
    "    listaNumeros.append(Xi)\n",
    "    var1 += var3\n",
    "    var2 += var3\n",
    "    ri = Xi / 99\n",
    "    cadenaRi = str(ri)\n",
    "    extracion = cadenaRi[0:7]\n",
    "    numPseudoaletorios.append(extracion)\n",
    "\n",
    "print('\\n'.join(map(str, listaNumeros)))\n",
    "print(\"---------\")\n",
    "print('\\n'.join(map(str, numPseudoaletorios)))"
   ]
  }
 ],
 "metadata": {
  "interpreter": {
   "hash": "50f2855ea9268f09f3bbc37fcb9d608efffc70f1e4a1ba46336c8ed334c44b9c"
  },
  "kernelspec": {
   "display_name": "Python 3.10.2 64-bit",
   "language": "python",
   "name": "python3"
  },
  "language_info": {
   "codemirror_mode": {
    "name": "ipython",
    "version": 3
   },
   "file_extension": ".py",
   "mimetype": "text/x-python",
   "name": "python",
   "nbconvert_exporter": "python",
   "pygments_lexer": "ipython3",
   "version": "3.10.2"
  },
  "orig_nbformat": 4
 },
 "nbformat": 4,
 "nbformat_minor": 2
}
