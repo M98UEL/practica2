{
 "cells": [
  {
   "cell_type": "code",
   "execution_count": 97,
   "metadata": {},
   "outputs": [
    {
     "name": "stdout",
     "output_type": "stream",
     "text": [
      "Los números RI han pasado la prueba de VARIANZA satisfactoriamente!!!\n"
     ]
    }
   ],
   "source": [
    "numeros = []\n",
    "RiMenosMedia = []\n",
    "CuadradoRiMedia = []\n",
    "n = 10000\n",
    "alfa = 0.05\n",
    "alfaSobre2 = alfa / 2\n",
    "unoMnsAlfaSobre2 = (1 - alfa) / 2\n",
    "gradosLibertad = n - 1\n",
    "\n",
    "\n",
    "with open(f'./files/DiezMil4.csv') as f:\n",
    "    for line in f:\n",
    "        temp = line.strip().split(',')  \n",
    "        for num in temp:\n",
    "            if num != '':\n",
    "                numeros.append(float(num))\n",
    "\n",
    "sumaRi = sum(numeros)\n",
    "MediaRi = (1/n) * sumaRi\n",
    "\n",
    "for i in range(len(numeros)):\n",
    "    RiMenosMedia.append(numeros[i] - MediaRi)\n",
    "\n",
    "for i in range(len(RiMenosMedia)):\n",
    "    CuadradoRiMedia.append(RiMenosMedia[i] ** 2)\n",
    "\n",
    "SumaCuadradoRiMedia = sum(CuadradoRiMedia)\n",
    "Varianza = SumaCuadradoRiMedia / (n - 1)\n",
    "chiCuadrada = 0.5 * ((-2.81 + (((2* gradosLibertad) - 1) ** 0.5)) ** 2)\n",
    "chiCuadradaMenosAlfa = 0.5 * ((0.06 + (((2* gradosLibertad) - 1) ** 0.5)) ** 2)\n",
    "limiteInferior = chiCuadrada / (12 * (n - 1))\n",
    "limiteSuperior = chiCuadradaMenosAlfa / (12 * (n - 1))\n",
    "\n",
    "if (Varianza > limiteInferior) & (Varianza < limiteSuperior):\n",
    "    print(\"Los números RI han pasado la prueba de VARIANZA satisfactoriamente!!!\")\n",
    "else:\n",
    "    print(\"Los números RI NO HAN PASADO LA PRUEBA\")"
   ]
  },
  {
   "cell_type": "code",
   "execution_count": 50,
   "metadata": {},
   "outputs": [
    {
     "name": "stdout",
     "output_type": "stream",
     "text": [
      "Limite Inferior --> 0.08005037040905542\n",
      "Varianza ---------> 0.08617593764632606\n",
      "Limite Superior --> 0.08339989369732198\n"
     ]
    }
   ],
   "source": [
    "print(\"Limite Inferior -->\", limiteInferior)\n",
    "print(\"Varianza --------->\", Varianza)\n",
    "print(\"Limite Superior -->\", limiteSuperior)"
   ]
  }
 ],
 "metadata": {
  "interpreter": {
   "hash": "1e212ffcd112e493261f337d46451b6107e835a0407c60d01bfbe2f70492fb12"
  },
  "kernelspec": {
   "display_name": "Python 3.10.2 64-bit",
   "language": "python",
   "name": "python3"
  },
  "language_info": {
   "codemirror_mode": {
    "name": "ipython",
    "version": 3
   },
   "file_extension": ".py",
   "mimetype": "text/x-python",
   "name": "python",
   "nbconvert_exporter": "python",
   "pygments_lexer": "ipython3",
   "version": "3.10.2"
  },
  "orig_nbformat": 4
 },
 "nbformat": 4,
 "nbformat_minor": 2
}
