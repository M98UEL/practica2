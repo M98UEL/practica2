{
 "cells": [
  {
   "cell_type": "markdown",
   "metadata": {},
   "source": [
    "### Hamming \n",
    "Escriba un programa que calcule la distancia hamming entre dos cadenas de texto de la misma longitud."
   ]
  },
  {
   "cell_type": "code",
   "execution_count": 1,
   "metadata": {},
   "outputs": [
    {
     "name": "stdout",
     "output_type": "stream",
     "text": [
      "0\n"
     ]
    }
   ],
   "source": [
    "palabra1 = input ('Escibre una cadena de bits: ')\n",
    "palabra2 = input ('Escribe una segunda cadena de bits: ')\n",
    "contador = 0\n",
    "cicloPalabra2 = 0\n",
    "\n",
    "for letra in palabra1:\n",
    "    if letra != palabra2[cicloPalabra2]:\n",
    "        contador = contador + 1 \n",
    "    cicloPalabra2 = cicloPalabra2 + 1\n",
    "\n",
    "print(contador)"
   ]
  }
 ],
 "metadata": {
  "interpreter": {
   "hash": "50f2855ea9268f09f3bbc37fcb9d608efffc70f1e4a1ba46336c8ed334c44b9c"
  },
  "kernelspec": {
   "display_name": "Python 3.10.2 64-bit",
   "language": "python",
   "name": "python3"
  },
  "language_info": {
   "codemirror_mode": {
    "name": "ipython",
    "version": 3
   },
   "file_extension": ".py",
   "mimetype": "text/x-python",
   "name": "python",
   "nbconvert_exporter": "python",
   "pygments_lexer": "ipython3",
   "version": "3.10.2"
  },
  "orig_nbformat": 4
 },
 "nbformat": 4,
 "nbformat_minor": 2
}
