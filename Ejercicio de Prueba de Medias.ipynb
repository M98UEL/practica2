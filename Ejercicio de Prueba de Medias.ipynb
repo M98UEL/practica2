{
 "cells": [
  {
   "cell_type": "code",
   "execution_count": 49,
   "metadata": {},
   "outputs": [
    {
     "name": "stdout",
     "output_type": "stream",
     "text": [
      "El total de numeros de ri ( 10000 ) Han pasado la prueba de MEDIAS\n"
     ]
    }
   ],
   "source": [
    "numeros = []\n",
    "Li = 0.49434\n",
    "Ls = 0.50565\n",
    "valorTablas = 1.96\n",
    "n = 10000\n",
    "\n",
    "\n",
    "with open(f'./files/DiezMil4.csv') as f:\n",
    "    for line in f:\n",
    "        temp = line.strip().split(',')  \n",
    "        for num in temp:\n",
    "            if num != '':\n",
    "                numeros.append(float(num))\n",
    "\n",
    "sumaRi = sum(numeros)\n",
    "MediaRi = (1/n) * sumaRi\n",
    "\n",
    "if (MediaRi > Li) & (MediaRi < Ls):\n",
    "    print(\"El total de numeros de ri (\", len(numeros),\") Han pasado la prueba de MEDIAS\")\n",
    "else:\n",
    "    print(\"El total de numeros de ri\", len(numeros),\" NO PASARON la prueba de medias\")"
   ]
  }
 ],
 "metadata": {
  "interpreter": {
   "hash": "1e212ffcd112e493261f337d46451b6107e835a0407c60d01bfbe2f70492fb12"
  },
  "kernelspec": {
   "display_name": "Python 3.10.2 64-bit",
   "language": "python",
   "name": "python3"
  },
  "language_info": {
   "codemirror_mode": {
    "name": "ipython",
    "version": 3
   },
   "file_extension": ".py",
   "mimetype": "text/x-python",
   "name": "python",
   "nbconvert_exporter": "python",
   "pygments_lexer": "ipython3",
   "version": "3.10.2"
  },
  "orig_nbformat": 4
 },
 "nbformat": 4,
 "nbformat_minor": 2
}
