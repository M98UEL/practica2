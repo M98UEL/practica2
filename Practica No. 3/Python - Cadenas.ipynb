{
 "cells": [
  {
   "cell_type": "markdown",
   "metadata": {},
   "source": [
    "#### Ejercicio 1\n",
    " Escriba un programa en Python que lea por teclado dos números enteros y muestre por pantalla el resultado de realizar las operaciones básicas entre ellos."
   ]
  },
  {
   "cell_type": "code",
   "execution_count": 1,
   "metadata": {},
   "outputs": [
    {
     "name": "stdout",
     "output_type": "stream",
     "text": [
      "La suma es: 20\n",
      "La resta es: 0\n",
      "La multiplicación es: 100\n",
      "La división es : 1.0\n"
     ]
    }
   ],
   "source": [
    "Resl = 0\n",
    "num1 = int (input('Escribe un numero: '))\n",
    "num2 = int (input('Escribe un segundo numero: '))\n",
    "Resl = num1 + num2\n",
    "print ('La suma es: ' + str(Resl))\n",
    "Resl = num1 - num2\n",
    "print ('La resta es: ' + str(Resl))\n",
    "Resl = num1 * num2\n",
    "print ('La multiplicación es: ' + str(Resl))\n",
    "Resl = num1 / num2\n",
    "print ('La división es : ' + str(Resl))"
   ]
  },
  {
   "cell_type": "markdown",
   "metadata": {},
   "source": [
    "### f-strings\n",
    "obtenga los siguientes resultados utilizando «f-strings»:\n",
    "![imagen del ejercicio](1.png)\n",
    "![imagen del ejercicio](2.png)"
   ]
  },
  {
   "cell_type": "code",
   "execution_count": 2,
   "metadata": {},
   "outputs": [
    {
     "data": {
      "text/plain": [
       "\"('2.718', '2.718280', '    2.72', '2.718280e+00', '00002.7183', '            2.71828')\""
      ]
     },
     "execution_count": 2,
     "metadata": {},
     "output_type": "execute_result"
    }
   ],
   "source": [
    "Var1 = '2.718'\n",
    "Var2 = '2.718280'\n",
    "Var3 = '    2.72'\n",
    "Var4 = '2.718280e+00'\n",
    "Var5 = '00002.7183'\n",
    "Var6 = '            2.71828'\n",
    "\n",
    "f'{Var1, Var2, Var3, Var4, Var5, Var6}'"
   ]
  }
 ],
 "metadata": {
  "language_info": {
   "name": "python"
  },
  "orig_nbformat": 4
 },
 "nbformat": 4,
 "nbformat_minor": 2
}
