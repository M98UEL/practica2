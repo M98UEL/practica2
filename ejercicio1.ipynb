{
 "cells": [
  {
   "cell_type": "markdown",
   "metadata": {},
   "source": [
    "# Ecuación de segundo grado"
   ]
  },
  {
   "cell_type": "markdown",
   "metadata": {},
   "source": [
    "![imagen del ejercicio](ejercicio.jpeg)\n",
    "\n"
   ]
  },
  {
   "cell_type": "code",
   "execution_count": 1,
   "metadata": {},
   "outputs": [
    {
     "name": "stdout",
     "output_type": "stream",
     "text": [
      "1.0\n"
     ]
    }
   ],
   "source": [
    "x1 = 0\n",
    "a = 4\n",
    "b = -6\n",
    "c = 2\n",
    "d = 0\n",
    "r = 0\n",
    "arriba = 0\n",
    "abajo = 0\n",
    "\n",
    "d = (b * b) - 4 * a * c\n",
    "r = (d ** (0.5))\n",
    "arriba = - b + r\n",
    "abajo = 2 * a\n",
    "x1 = arriba / abajo\n",
    "print(x1)"
   ]
  },
  {
   "cell_type": "code",
   "execution_count": 2,
   "metadata": {},
   "outputs": [
    {
     "name": "stdout",
     "output_type": "stream",
     "text": [
      "0.5\n"
     ]
    }
   ],
   "source": [
    "x2 = 0\n",
    "up = 0\n",
    "\n",
    "up = - b - r\n",
    "x2 = up / abajo\n",
    "print(x2)"
   ]
  }
 ],
 "metadata": {
  "interpreter": {
   "hash": "50f2855ea9268f09f3bbc37fcb9d608efffc70f1e4a1ba46336c8ed334c44b9c"
  },
  "kernelspec": {
   "display_name": "Python 3.10.2 64-bit",
   "language": "python",
   "name": "python3"
  },
  "language_info": {
   "codemirror_mode": {
    "name": "ipython",
    "version": 3
   },
   "file_extension": ".py",
   "mimetype": "text/x-python",
   "name": "python",
   "nbconvert_exporter": "python",
   "pygments_lexer": "ipython3",
   "version": "3.10.2"
  },
  "orig_nbformat": 4
 },
 "nbformat": 4,
 "nbformat_minor": 2
}
